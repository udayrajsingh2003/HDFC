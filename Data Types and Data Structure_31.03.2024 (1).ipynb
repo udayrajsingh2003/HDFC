{
 "cells": [
  {
   "cell_type": "code",
   "execution_count": null,
   "id": "b48c5576",
   "metadata": {},
   "outputs": [],
   "source": [
    "Data Types:\n",
    "    int - complete number \n",
    "    float - incomplete number\n",
    "    str - single char or collection of chars --> '', or \" \" or ''' ''' or  \"\"\"\"\"\"\n",
    "    bool - True /False\n",
    "    None - Empty\n",
    "    complex - real+imgconstant --> SVM\n",
    "    \n",
    "Note:char data type not Present in python"
   ]
  },
  {
   "cell_type": "code",
   "execution_count": 1,
   "id": "6ee5cdb0",
   "metadata": {},
   "outputs": [],
   "source": [
    "empid  = 101"
   ]
  },
  {
   "cell_type": "code",
   "execution_count": 2,
   "id": "1272b7c8",
   "metadata": {},
   "outputs": [
    {
     "data": {
      "text/plain": [
       "101"
      ]
     },
     "execution_count": 2,
     "metadata": {},
     "output_type": "execute_result"
    }
   ],
   "source": [
    "empid"
   ]
  },
  {
   "cell_type": "code",
   "execution_count": 3,
   "id": "23027b2f",
   "metadata": {},
   "outputs": [
    {
     "data": {
      "text/plain": [
       "int"
      ]
     },
     "execution_count": 3,
     "metadata": {},
     "output_type": "execute_result"
    }
   ],
   "source": [
    "type(empid)"
   ]
  },
  {
   "cell_type": "code",
   "execution_count": 4,
   "id": "5fafb999",
   "metadata": {},
   "outputs": [],
   "source": [
    "empsal = 456912.616"
   ]
  },
  {
   "cell_type": "code",
   "execution_count": 5,
   "id": "f1352b87",
   "metadata": {},
   "outputs": [
    {
     "data": {
      "text/plain": [
       "float"
      ]
     },
     "execution_count": 5,
     "metadata": {},
     "output_type": "execute_result"
    }
   ],
   "source": [
    "type(empsal)"
   ]
  },
  {
   "cell_type": "code",
   "execution_count": null,
   "id": "5e4b6f8f",
   "metadata": {},
   "outputs": [],
   "source": [
    "type() : it is use to identify data type of variable"
   ]
  },
  {
   "cell_type": "code",
   "execution_count": 6,
   "id": "71136522",
   "metadata": {},
   "outputs": [],
   "source": [
    "prdid = 450"
   ]
  },
  {
   "cell_type": "code",
   "execution_count": 7,
   "id": "d2684b40",
   "metadata": {},
   "outputs": [],
   "source": [
    "pivalue = 22/7"
   ]
  },
  {
   "cell_type": "code",
   "execution_count": 8,
   "id": "9db74c64",
   "metadata": {},
   "outputs": [
    {
     "data": {
      "text/plain": [
       "3.142857142857143"
      ]
     },
     "execution_count": 8,
     "metadata": {},
     "output_type": "execute_result"
    }
   ],
   "source": [
    "pivalue"
   ]
  },
  {
   "cell_type": "code",
   "execution_count": 9,
   "id": "97f1e3ed",
   "metadata": {},
   "outputs": [
    {
     "data": {
      "text/plain": [
       "float"
      ]
     },
     "execution_count": 9,
     "metadata": {},
     "output_type": "execute_result"
    }
   ],
   "source": [
    "type(pivalue)"
   ]
  },
  {
   "cell_type": "code",
   "execution_count": 10,
   "id": "70abd480",
   "metadata": {},
   "outputs": [],
   "source": [
    "empname = 'keshav'"
   ]
  },
  {
   "cell_type": "code",
   "execution_count": 11,
   "id": "ccfbe040",
   "metadata": {},
   "outputs": [
    {
     "data": {
      "text/plain": [
       "str"
      ]
     },
     "execution_count": 11,
     "metadata": {},
     "output_type": "execute_result"
    }
   ],
   "source": [
    "type(empname)"
   ]
  },
  {
   "cell_type": "code",
   "execution_count": 12,
   "id": "5000ba05",
   "metadata": {},
   "outputs": [],
   "source": [
    "a = 't'"
   ]
  },
  {
   "cell_type": "code",
   "execution_count": 13,
   "id": "634b4c6b",
   "metadata": {},
   "outputs": [
    {
     "data": {
      "text/plain": [
       "str"
      ]
     },
     "execution_count": 13,
     "metadata": {},
     "output_type": "execute_result"
    }
   ],
   "source": [
    "type(a)"
   ]
  },
  {
   "cell_type": "code",
   "execution_count": 14,
   "id": "d2095bf2",
   "metadata": {},
   "outputs": [],
   "source": [
    "ismarried = True"
   ]
  },
  {
   "cell_type": "code",
   "execution_count": 15,
   "id": "c26ad453",
   "metadata": {},
   "outputs": [
    {
     "data": {
      "text/plain": [
       "bool"
      ]
     },
     "execution_count": 15,
     "metadata": {},
     "output_type": "execute_result"
    }
   ],
   "source": [
    "type(ismarried)"
   ]
  },
  {
   "cell_type": "code",
   "execution_count": null,
   "id": "412dbbaf",
   "metadata": {},
   "outputs": [],
   "source": [
    "True --> 1\n",
    "\n",
    "False -->0"
   ]
  },
  {
   "cell_type": "code",
   "execution_count": 16,
   "id": "5f44b3fe",
   "metadata": {},
   "outputs": [],
   "source": [
    "h1b1 = None"
   ]
  },
  {
   "cell_type": "code",
   "execution_count": 17,
   "id": "f52c42dc",
   "metadata": {},
   "outputs": [
    {
     "data": {
      "text/plain": [
       "NoneType"
      ]
     },
     "execution_count": 17,
     "metadata": {},
     "output_type": "execute_result"
    }
   ],
   "source": [
    "type(h1b1)"
   ]
  },
  {
   "cell_type": "code",
   "execution_count": 22,
   "id": "6ff85f62",
   "metadata": {},
   "outputs": [],
   "source": [
    "data = 10+12j"
   ]
  },
  {
   "cell_type": "code",
   "execution_count": 20,
   "id": "8f7a54a8",
   "metadata": {},
   "outputs": [
    {
     "data": {
      "text/plain": [
       "complex"
      ]
     },
     "execution_count": 20,
     "metadata": {},
     "output_type": "execute_result"
    }
   ],
   "source": [
    "type(data)"
   ]
  },
  {
   "cell_type": "code",
   "execution_count": null,
   "id": "869ed3fa",
   "metadata": {},
   "outputs": [],
   "source": [
    "SVM ML algorithm --> \n"
   ]
  },
  {
   "cell_type": "code",
   "execution_count": null,
   "id": "8d10180e",
   "metadata": {},
   "outputs": [],
   "source": [
    "Data Structure:\n",
    "    raw data arranged in perticular format -> data structure\n",
    "    \n",
    "1.list 2days\n",
    "2.tuple 1\n",
    "3.set 2 \n",
    "4.dict 2\n",
    "5.str 3\n",
    "6.frozenset 1"
   ]
  },
  {
   "cell_type": "code",
   "execution_count": null,
   "id": "69c5385a",
   "metadata": {},
   "outputs": [],
   "source": [
    "1.List:\n",
    "    it is collection of data types/elements\n",
    "    similar --> homogeneous list\n",
    "    different --> Hetrogeneous list\n",
    "    it is denoted by []\n",
    "    \n",
    "    it is mutable type ****\n",
    "    \n",
    "    elements of list access by index number\n",
    "    indexing:\n",
    "        forward/positive:\n",
    "            start = 0 end = len-1\n",
    "        reverse/negative:\n",
    "            start=-1 end = -len"
   ]
  },
  {
   "cell_type": "code",
   "execution_count": 25,
   "id": "7a7912c3",
   "metadata": {},
   "outputs": [],
   "source": [
    "empids = [101,102,103,104,105]"
   ]
  },
  {
   "cell_type": "code",
   "execution_count": 26,
   "id": "6f38262c",
   "metadata": {},
   "outputs": [
    {
     "data": {
      "text/plain": [
       "[101, 102, 103, 104, 105]"
      ]
     },
     "execution_count": 26,
     "metadata": {},
     "output_type": "execute_result"
    }
   ],
   "source": [
    "empids"
   ]
  },
  {
   "cell_type": "code",
   "execution_count": 27,
   "id": "4c0b2a38",
   "metadata": {},
   "outputs": [
    {
     "data": {
      "text/plain": [
       "list"
      ]
     },
     "execution_count": 27,
     "metadata": {},
     "output_type": "execute_result"
    }
   ],
   "source": [
    "type(empids)"
   ]
  },
  {
   "cell_type": "code",
   "execution_count": 28,
   "id": "d45b1864",
   "metadata": {},
   "outputs": [],
   "source": [
    "empdetails = [101,'rahul','Pune',75000.56,'IT',True,None]"
   ]
  },
  {
   "cell_type": "code",
   "execution_count": 29,
   "id": "b3ad3549",
   "metadata": {},
   "outputs": [
    {
     "data": {
      "text/plain": [
       "[101, 'rahul', 'Pune', 75000.56, 'IT', True, None]"
      ]
     },
     "execution_count": 29,
     "metadata": {},
     "output_type": "execute_result"
    }
   ],
   "source": [
    "empdetails"
   ]
  },
  {
   "cell_type": "code",
   "execution_count": null,
   "id": "4255aac8",
   "metadata": {},
   "outputs": [],
   "source": [
    "Interview ?\n",
    "\n",
    "Exp : Answer - real time case study\n",
    "    \n",
    "Fresher"
   ]
  },
  {
   "cell_type": "code",
   "execution_count": null,
   "id": "41963599",
   "metadata": {},
   "outputs": [],
   "source": [
    "mutable --> changable---> unhashable\n",
    "\n",
    "DS --> create --> insert /delete /update operation"
   ]
  },
  {
   "cell_type": "code",
   "execution_count": null,
   "id": "fd31b47c",
   "metadata": {},
   "outputs": [],
   "source": [
    "immutable Type:\n",
    "    we cannt perform insert/update/delete"
   ]
  },
  {
   "cell_type": "code",
   "execution_count": null,
   "id": "ea26d93b",
   "metadata": {},
   "outputs": [],
   "source": [
    "List out mutable Type /Immutable DS:\n",
    "    Mutable:\n",
    "        1.list\n",
    "        2.set\n",
    "        3.dict\n",
    "    Immutable:\n",
    "        1.tuple\n",
    "        2.str\n",
    "        3.frozenset"
   ]
  },
  {
   "cell_type": "code",
   "execution_count": 33,
   "id": "2d249092",
   "metadata": {},
   "outputs": [
    {
     "data": {
      "text/plain": [
       "[101, 'rahul', 'Pune', 75000.56, 'IT', True, None]"
      ]
     },
     "execution_count": 33,
     "metadata": {},
     "output_type": "execute_result"
    }
   ],
   "source": [
    "empdetails"
   ]
  },
  {
   "cell_type": "code",
   "execution_count": 34,
   "id": "4b34f9fd",
   "metadata": {},
   "outputs": [
    {
     "data": {
      "text/plain": [
       "'Pune'"
      ]
     },
     "execution_count": 34,
     "metadata": {},
     "output_type": "execute_result"
    }
   ],
   "source": [
    "empdetails[2]"
   ]
  },
  {
   "cell_type": "code",
   "execution_count": 35,
   "id": "7a7cfcce",
   "metadata": {},
   "outputs": [
    {
     "data": {
      "text/plain": [
       "True"
      ]
     },
     "execution_count": 35,
     "metadata": {},
     "output_type": "execute_result"
    }
   ],
   "source": [
    "empdetails[-2]"
   ]
  },
  {
   "cell_type": "code",
   "execution_count": 36,
   "id": "df04df7f",
   "metadata": {},
   "outputs": [
    {
     "data": {
      "text/plain": [
       "101"
      ]
     },
     "execution_count": 36,
     "metadata": {},
     "output_type": "execute_result"
    }
   ],
   "source": [
    "empdetails[0]"
   ]
  },
  {
   "cell_type": "code",
   "execution_count": null,
   "id": "5fa3f565",
   "metadata": {},
   "outputs": [],
   "source": [
    "[]\n",
    "()\n",
    "{}"
   ]
  }
 ],
 "metadata": {
  "kernelspec": {
   "display_name": "Python 3",
   "language": "python",
   "name": "python3"
  },
  "language_info": {
   "codemirror_mode": {
    "name": "ipython",
    "version": 3
   },
   "file_extension": ".py",
   "mimetype": "text/x-python",
   "name": "python",
   "nbconvert_exporter": "python",
   "pygments_lexer": "ipython3",
   "version": "3.8.8"
  }
 },
 "nbformat": 4,
 "nbformat_minor": 5
}
